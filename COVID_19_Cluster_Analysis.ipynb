{
  "nbformat": 4,
  "nbformat_minor": 0,
  "metadata": {
    "colab": {
      "name": "COVID-19-Cluster-Analysis.ipynb",
      "provenance": [],
      "collapsed_sections": [],
      "authorship_tag": "ABX9TyNl2sKh+qXtVwMOkyBS6IJ4",
      "include_colab_link": true
    },
    "kernelspec": {
      "name": "python3",
      "display_name": "Python 3"
    }
  },
  "cells": [
    {
      "cell_type": "markdown",
      "metadata": {
        "id": "view-in-github",
        "colab_type": "text"
      },
      "source": [
        "<a href=\"https://colab.research.google.com/github/balyashukla1/incentivizing-data-sharing/blob/master/COVID_19_Cluster_Analysis.ipynb\" target=\"_parent\"><img src=\"https://colab.research.google.com/assets/colab-badge.svg\" alt=\"Open In Colab\"/></a>"
      ]
    },
    {
      "cell_type": "code",
      "metadata": {
        "id": "N8TJ07P0K1Wp",
        "colab_type": "code",
        "colab": {
          "base_uri": "https://localhost:8080/",
          "height": 72
        },
        "outputId": "bdcee13b-94b8-4561-b5b7-ddcac8752e76"
      },
      "source": [
        "import pandas as pd\n",
        "import numpy as np\n",
        "from sklearn.cluster import KMeans\n",
        "from sklearn.preprocessing import LabelEncoder\n",
        "from sklearn.preprocessing import MinMaxScaler\n",
        "import seaborn as sns\n",
        "import matplotlib.pyplot as plt\n",
        "%matplotlib inline\n",
        "from sklearn.datasets import make_blobs\n",
        "from pandas import Series, DataFrame\n"
      ],
      "execution_count": 45,
      "outputs": [
        {
          "output_type": "stream",
          "text": [
            "/usr/local/lib/python3.6/dist-packages/statsmodels/tools/_testing.py:19: FutureWarning: pandas.util.testing is deprecated. Use the functions in the public API at pandas.testing instead.\n",
            "  import pandas.util.testing as tm\n"
          ],
          "name": "stderr"
        }
      ]
    },
    {
      "cell_type": "code",
      "metadata": {
        "id": "bO5bBkN9A8r3",
        "colab_type": "code",
        "colab": {}
      },
      "source": [
        "data = pd.read_csv(\"/content/owid-covid-data.csv\",encoding='cp1252')"
      ],
      "execution_count": 0,
      "outputs": []
    },
    {
      "cell_type": "code",
      "metadata": {
        "id": "_bXzWn39BEhr",
        "colab_type": "code",
        "colab": {
          "base_uri": "https://localhost:8080/",
          "height": 543
        },
        "outputId": "242a7eb7-8d37-4c0f-a178-0f5f160696a3"
      },
      "source": [
        "data"
      ],
      "execution_count": 72,
      "outputs": [
        {
          "output_type": "execute_result",
          "data": {
            "text/html": [
              "<div>\n",
              "<style scoped>\n",
              "    .dataframe tbody tr th:only-of-type {\n",
              "        vertical-align: middle;\n",
              "    }\n",
              "\n",
              "    .dataframe tbody tr th {\n",
              "        vertical-align: top;\n",
              "    }\n",
              "\n",
              "    .dataframe thead th {\n",
              "        text-align: right;\n",
              "    }\n",
              "</style>\n",
              "<table border=\"1\" class=\"dataframe\">\n",
              "  <thead>\n",
              "    <tr style=\"text-align: right;\">\n",
              "      <th></th>\n",
              "      <th>iso_code</th>\n",
              "      <th>location</th>\n",
              "      <th>total_cases</th>\n",
              "      <th>total_deaths</th>\n",
              "      <th>population</th>\n",
              "      <th>population_density</th>\n",
              "      <th>median_age</th>\n",
              "      <th>aged_65_older</th>\n",
              "      <th>gdp_per_capita</th>\n",
              "      <th>hospital_beds_per_10k</th>\n",
              "      <th>Unemployment</th>\n",
              "      <th>Concentrations of fine particulate matter (PM2.5)</th>\n",
              "      <th>Medical_doctors_per_10k</th>\n",
              "    </tr>\n",
              "  </thead>\n",
              "  <tbody>\n",
              "    <tr>\n",
              "      <th>0</th>\n",
              "      <td>AFG</td>\n",
              "      <td>Afghanistan</td>\n",
              "      <td>5339</td>\n",
              "      <td>136</td>\n",
              "      <td>38928341</td>\n",
              "      <td>54.422</td>\n",
              "      <td>18.6</td>\n",
              "      <td>2.581</td>\n",
              "      <td>1803.987</td>\n",
              "      <td>5</td>\n",
              "      <td>1.52</td>\n",
              "      <td>59.9</td>\n",
              "      <td>2.782</td>\n",
              "    </tr>\n",
              "    <tr>\n",
              "      <th>1</th>\n",
              "      <td>ALB</td>\n",
              "      <td>Albania</td>\n",
              "      <td>898</td>\n",
              "      <td>31</td>\n",
              "      <td>2877800</td>\n",
              "      <td>104.871</td>\n",
              "      <td>38.0</td>\n",
              "      <td>13.188</td>\n",
              "      <td>11803.431</td>\n",
              "      <td>29</td>\n",
              "      <td>12</td>\n",
              "      <td>18.2</td>\n",
              "      <td>12.164</td>\n",
              "    </tr>\n",
              "    <tr>\n",
              "      <th>2</th>\n",
              "      <td>ARE</td>\n",
              "      <td>United Arab Emirates</td>\n",
              "      <td>21084</td>\n",
              "      <td>208</td>\n",
              "      <td>9890400</td>\n",
              "      <td>112.442</td>\n",
              "      <td>34.0</td>\n",
              "      <td>1.144</td>\n",
              "      <td>67293.483</td>\n",
              "      <td>12</td>\n",
              "      <td>2.64</td>\n",
              "      <td>37.2</td>\n",
              "      <td>23.710</td>\n",
              "    </tr>\n",
              "    <tr>\n",
              "      <th>3</th>\n",
              "      <td>ARG</td>\n",
              "      <td>Argentina</td>\n",
              "      <td>7121</td>\n",
              "      <td>353</td>\n",
              "      <td>45195777</td>\n",
              "      <td>16.177</td>\n",
              "      <td>31.9</td>\n",
              "      <td>11.198</td>\n",
              "      <td>18933.907</td>\n",
              "      <td>50</td>\n",
              "      <td>9.825</td>\n",
              "      <td>11.7</td>\n",
              "      <td>40.013</td>\n",
              "    </tr>\n",
              "    <tr>\n",
              "      <th>4</th>\n",
              "      <td>ARM</td>\n",
              "      <td>Armenia</td>\n",
              "      <td>3860</td>\n",
              "      <td>49</td>\n",
              "      <td>2963234</td>\n",
              "      <td>102.931</td>\n",
              "      <td>35.7</td>\n",
              "      <td>11.232</td>\n",
              "      <td>8787.580</td>\n",
              "      <td>42</td>\n",
              "      <td>17.707</td>\n",
              "      <td>32.9</td>\n",
              "      <td>NaN</td>\n",
              "    </tr>\n",
              "    <tr>\n",
              "      <th>...</th>\n",
              "      <td>...</td>\n",
              "      <td>...</td>\n",
              "      <td>...</td>\n",
              "      <td>...</td>\n",
              "      <td>...</td>\n",
              "      <td>...</td>\n",
              "      <td>...</td>\n",
              "      <td>...</td>\n",
              "      <td>...</td>\n",
              "      <td>...</td>\n",
              "      <td>...</td>\n",
              "      <td>...</td>\n",
              "      <td>...</td>\n",
              "    </tr>\n",
              "    <tr>\n",
              "      <th>99</th>\n",
              "      <td>VEN</td>\n",
              "      <td>Venezuela (Bolivarian Republic of)</td>\n",
              "      <td>455</td>\n",
              "      <td>10</td>\n",
              "      <td>28435943</td>\n",
              "      <td>36.253</td>\n",
              "      <td>29.0</td>\n",
              "      <td>6.614</td>\n",
              "      <td>16745.022</td>\n",
              "      <td>8</td>\n",
              "      <td>9.08</td>\n",
              "      <td>16.8</td>\n",
              "      <td>NaN</td>\n",
              "    </tr>\n",
              "    <tr>\n",
              "      <th>100</th>\n",
              "      <td>VNM</td>\n",
              "      <td>Viet Nam</td>\n",
              "      <td>312</td>\n",
              "      <td>0</td>\n",
              "      <td>97338583</td>\n",
              "      <td>308.127</td>\n",
              "      <td>32.6</td>\n",
              "      <td>7.150</td>\n",
              "      <td>6171.884</td>\n",
              "      <td>26</td>\n",
              "      <td>2.21</td>\n",
              "      <td>30.1</td>\n",
              "      <td>8.281</td>\n",
              "    </tr>\n",
              "    <tr>\n",
              "      <th>101</th>\n",
              "      <td>YEM</td>\n",
              "      <td>Yemen</td>\n",
              "      <td>87</td>\n",
              "      <td>13</td>\n",
              "      <td>29825968</td>\n",
              "      <td>53.508</td>\n",
              "      <td>20.3</td>\n",
              "      <td>2.922</td>\n",
              "      <td>1479.147</td>\n",
              "      <td>7</td>\n",
              "      <td>12.81</td>\n",
              "      <td>44.3</td>\n",
              "      <td>NaN</td>\n",
              "    </tr>\n",
              "    <tr>\n",
              "      <th>102</th>\n",
              "      <td>ZAF</td>\n",
              "      <td>South Africa</td>\n",
              "      <td>12739</td>\n",
              "      <td>238</td>\n",
              "      <td>59308690</td>\n",
              "      <td>46.754</td>\n",
              "      <td>27.3</td>\n",
              "      <td>5.344</td>\n",
              "      <td>12294.876</td>\n",
              "      <td>28</td>\n",
              "      <td>28.7</td>\n",
              "      <td>24.3</td>\n",
              "      <td>7.997</td>\n",
              "    </tr>\n",
              "    <tr>\n",
              "      <th>103</th>\n",
              "      <td>ZWE</td>\n",
              "      <td>Zimbabwe</td>\n",
              "      <td>37</td>\n",
              "      <td>4</td>\n",
              "      <td>14862927</td>\n",
              "      <td>42.729</td>\n",
              "      <td>19.6</td>\n",
              "      <td>2.822</td>\n",
              "      <td>1899.775</td>\n",
              "      <td>17</td>\n",
              "      <td>4.9</td>\n",
              "      <td>19.1</td>\n",
              "      <td>1.788</td>\n",
              "    </tr>\n",
              "  </tbody>\n",
              "</table>\n",
              "<p>104 rows × 13 columns</p>\n",
              "</div>"
            ],
            "text/plain": [
              "    iso_code  ... Medical_doctors_per_10k\n",
              "0        AFG  ...                   2.782\n",
              "1        ALB  ...                  12.164\n",
              "2        ARE  ...                  23.710\n",
              "3        ARG  ...                  40.013\n",
              "4        ARM  ...                     NaN\n",
              "..       ...  ...                     ...\n",
              "99       VEN  ...                     NaN\n",
              "100      VNM  ...                   8.281\n",
              "101      YEM  ...                     NaN\n",
              "102      ZAF  ...                   7.997\n",
              "103      ZWE  ...                   1.788\n",
              "\n",
              "[104 rows x 13 columns]"
            ]
          },
          "metadata": {
            "tags": []
          },
          "execution_count": 72
        }
      ]
    },
    {
      "cell_type": "code",
      "metadata": {
        "id": "Z0q8X16JCHBr",
        "colab_type": "code",
        "colab": {}
      },
      "source": [
        "df = data.drop(columns=[\"population\", \"Medical_doctors_per_10k\"])"
      ],
      "execution_count": 0,
      "outputs": []
    },
    {
      "cell_type": "code",
      "metadata": {
        "id": "NP7YerWeCUSE",
        "colab_type": "code",
        "colab": {
          "base_uri": "https://localhost:8080/",
          "height": 230
        },
        "outputId": "9def88f2-02b6-45b2-d889-e1e6b406bf72"
      },
      "source": [
        "df.isna().sum()"
      ],
      "execution_count": 74,
      "outputs": [
        {
          "output_type": "execute_result",
          "data": {
            "text/plain": [
              "iso_code                                             0\n",
              "location                                             0\n",
              "total_cases                                          0\n",
              "total_deaths                                         0\n",
              "population_density                                   0\n",
              "median_age                                           0\n",
              "aged_65_older                                        0\n",
              "gdp_per_capita                                       0\n",
              "hospital_beds_per_10k                                0\n",
              "Unemployment                                         0\n",
              "Concentrations of fine particulate matter (PM2.5)    0\n",
              "dtype: int64"
            ]
          },
          "metadata": {
            "tags": []
          },
          "execution_count": 74
        }
      ]
    },
    {
      "cell_type": "code",
      "metadata": {
        "id": "0jygsxv4ItMG",
        "colab_type": "code",
        "colab": {}
      },
      "source": [
        "df.dropna(how='any', inplace=True)"
      ],
      "execution_count": 0,
      "outputs": []
    },
    {
      "cell_type": "code",
      "metadata": {
        "id": "TkYHm0NLDsrd",
        "colab_type": "code",
        "colab": {
          "base_uri": "https://localhost:8080/",
          "height": 336
        },
        "outputId": "f1e0fef8-0400-42dc-9f5e-134a6bb29d7c"
      },
      "source": [
        "df.info()"
      ],
      "execution_count": 85,
      "outputs": [
        {
          "output_type": "stream",
          "text": [
            "<class 'pandas.core.frame.DataFrame'>\n",
            "Int64Index: 103 entries, 0 to 103\n",
            "Data columns (total 11 columns):\n",
            " #   Column                                             Non-Null Count  Dtype  \n",
            "---  ------                                             --------------  -----  \n",
            " 0   iso_code                                           103 non-null    object \n",
            " 1   location                                           103 non-null    object \n",
            " 2   total_cases                                        103 non-null    int64  \n",
            " 3   total_deaths                                       103 non-null    int64  \n",
            " 4   population_density                                 103 non-null    float64\n",
            " 5   median_age                                         103 non-null    float64\n",
            " 6   aged_65_older                                      103 non-null    float64\n",
            " 7   gdp_per_capita                                     103 non-null    float64\n",
            " 8   hospital_beds_per_10k                              103 non-null    int64  \n",
            " 9   Unemployment                                       103 non-null    float64\n",
            " 10  Concentrations of fine particulate matter (PM2.5)  103 non-null    float64\n",
            "dtypes: float64(6), int64(3), object(2)\n",
            "memory usage: 9.7+ KB\n"
          ],
          "name": "stdout"
        }
      ]
    },
    {
      "cell_type": "code",
      "metadata": {
        "id": "EHojyqjpD9XO",
        "colab_type": "code",
        "colab": {}
      },
      "source": [
        "df[\"Unemployment \"] = df[\"Unemployment \"].apply(pd.to_numeric, errors='coerce')"
      ],
      "execution_count": 0,
      "outputs": []
    },
    {
      "cell_type": "code",
      "metadata": {
        "id": "9y2vhmEeEzRN",
        "colab_type": "code",
        "colab": {}
      },
      "source": [
        "df[\"hospital_beds_per_10k\"] = df[\"hospital_beds_per_10k\"].apply(pd.to_numeric, errors='coerce')"
      ],
      "execution_count": 0,
      "outputs": []
    },
    {
      "cell_type": "code",
      "metadata": {
        "id": "f-6A-w3eHDXj",
        "colab_type": "code",
        "colab": {}
      },
      "source": [
        "df['location'] = df['location'].astype('str') "
      ],
      "execution_count": 0,
      "outputs": []
    },
    {
      "cell_type": "code",
      "metadata": {
        "id": "dyL92hAVHT65",
        "colab_type": "code",
        "colab": {}
      },
      "source": [
        "X = np.array(df.drop(['location', 'iso_code', 'total_cases', 'total_deaths'], 1).astype(float))"
      ],
      "execution_count": 0,
      "outputs": []
    },
    {
      "cell_type": "code",
      "metadata": {
        "id": "efe-WzbXIUMQ",
        "colab_type": "code",
        "colab": {}
      },
      "source": [
        "y = np.array(df['location'])"
      ],
      "execution_count": 0,
      "outputs": []
    },
    {
      "cell_type": "code",
      "metadata": {
        "id": "LWJjZe7sQHqh",
        "colab_type": "code",
        "colab": {}
      },
      "source": [
        "from sklearn.metrics import silhouette_score\n",
        "\n",
        "def calculate_WSS(points, kmax):\n",
        "  sse = []\n",
        "  for k in range(1, kmax+1):\n",
        "    kmeans = KMeans(n_clusters = k).fit(points)\n",
        "    centroids = kmeans.cluster_centers_\n",
        "    pred_clusters = kmeans.predict(points)\n",
        "    curr_sse = 0\n",
        "    \n",
        "    # calculate square of Euclidean distance of each point from its cluster center and add to current WSS\n",
        "    for i in range(len(points)):\n",
        "      curr_center = centroids[pred_clusters[i]]\n",
        "      curr_sse += (points[i, 0] - curr_center[0]) ** 2 + (points[i, 1] - curr_center[1]) ** 2\n",
        "      \n",
        "    sse.append(curr_sse)\n",
        "  return sse"
      ],
      "execution_count": 0,
      "outputs": []
    },
    {
      "cell_type": "code",
      "metadata": {
        "id": "phibGClMQbLo",
        "colab_type": "code",
        "colab": {}
      },
      "source": [
        "wss = calculate_WSS(X, 10)"
      ],
      "execution_count": 0,
      "outputs": []
    },
    {
      "cell_type": "code",
      "metadata": {
        "id": "w0aZAZRvRMKz",
        "colab_type": "code",
        "colab": {
          "base_uri": "https://localhost:8080/",
          "height": 293
        },
        "outputId": "e789c392-3ae3-4d13-9d3e-8c642d74e521"
      },
      "source": [
        "plt.plot(wss) ## looks like the elbow is at k = 5"
      ],
      "execution_count": 108,
      "outputs": [
        {
          "output_type": "execute_result",
          "data": {
            "text/plain": [
              "[<matplotlib.lines.Line2D at 0x7fccf90c6ba8>]"
            ]
          },
          "metadata": {
            "tags": []
          },
          "execution_count": 108
        },
        {
          "output_type": "display_data",
          "data": {
            "image/png": "[encoded data removed]",
            "text/plain": [
              "<Figure size 432x288 with 1 Axes>"
            ]
          },
          "metadata": {
            "tags": [],
            "needs_background": "light"
          }
        }
      ]
    },
    {
      "cell_type": "code",
      "metadata": {
        "id": "mxpaGiiwIh_H",
        "colab_type": "code",
        "colab": {
          "base_uri": "https://localhost:8080/",
          "height": 70
        },
        "outputId": "8e9472ff-47ab-43a4-b97f-c3aaa7b8d051"
      },
      "source": [
        "kmeans = kmeans = KMeans(n_clusters=5, max_iter=600, algorithm = 'auto')\n",
        "kmeans.fit(X)"
      ],
      "execution_count": 90,
      "outputs": [
        {
          "output_type": "execute_result",
          "data": {
            "text/plain": [
              "KMeans(algorithm='auto', copy_x=True, init='k-means++', max_iter=600,\n",
              "       n_clusters=5, n_init=10, n_jobs=None, precompute_distances='auto',\n",
              "       random_state=None, tol=0.0001, verbose=0)"
            ]
          },
          "metadata": {
            "tags": []
          },
          "execution_count": 90
        }
      ]
    },
    {
      "cell_type": "code",
      "metadata": {
        "id": "WS0DtmKCJoMw",
        "colab_type": "code",
        "colab": {
          "base_uri": "https://localhost:8080/",
          "height": 194
        },
        "outputId": "ace81112-512e-454a-d089-06a18e133ee5"
      },
      "source": [
        "print(kmeans.cluster_centers_)"
      ],
      "execution_count": 91,
      "outputs": [
        {
          "output_type": "stream",
          "text": [
            "[[1.18056700e+02 3.31133333e+01 9.41903333e+00 1.47564137e+04\n",
            "  3.20333333e+01 8.79270000e+00 2.60566667e+01]\n",
            " [3.23125611e+02 4.09888889e+01 1.72244444e+01 4.49450011e+04\n",
            "  4.76111111e+01 4.62744444e+00 1.75222222e+01]\n",
            " [1.06939348e+02 3.93260870e+01 1.51235217e+01 2.77546194e+04\n",
            "  4.59130435e+01 6.06143478e+00 1.66434783e+01]\n",
            " [1.66879120e+03 3.89000000e+01 1.18254000e+01 7.58484362e+04\n",
            "  3.02000000e+01 3.80200000e+00 1.64800000e+01]\n",
            " [1.65359111e+02 2.62629630e+01 5.97718519e+00 5.78277307e+03\n",
            "  1.64814815e+01 7.49340741e+00 3.33666667e+01]]\n"
          ],
          "name": "stdout"
        }
      ]
    },
    {
      "cell_type": "code",
      "metadata": {
        "id": "CXs14FYkJwQu",
        "colab_type": "code",
        "colab": {}
      },
      "source": [
        "predict=kmeans.predict(X)"
      ],
      "execution_count": 0,
      "outputs": []
    },
    {
      "cell_type": "code",
      "metadata": {
        "id": "pb-GVVFOJyjr",
        "colab_type": "code",
        "colab": {}
      },
      "source": [
        "df['Cluster'] = Series(predict, index=df.index)"
      ],
      "execution_count": 0,
      "outputs": []
    },
    {
      "cell_type": "code",
      "metadata": {
        "id": "ewDNyPG2J2MD",
        "colab_type": "code",
        "colab": {
          "base_uri": "https://localhost:8080/",
          "height": 543
        },
        "outputId": "52d4bebc-de0c-4174-93c4-6ad1e9943c86"
      },
      "source": [
        "df"
      ],
      "execution_count": 95,
      "outputs": [
        {
          "output_type": "execute_result",
          "data": {
            "text/html": [
              "<div>\n",
              "<style scoped>\n",
              "    .dataframe tbody tr th:only-of-type {\n",
              "        vertical-align: middle;\n",
              "    }\n",
              "\n",
              "    .dataframe tbody tr th {\n",
              "        vertical-align: top;\n",
              "    }\n",
              "\n",
              "    .dataframe thead th {\n",
              "        text-align: right;\n",
              "    }\n",
              "</style>\n",
              "<table border=\"1\" class=\"dataframe\">\n",
              "  <thead>\n",
              "    <tr style=\"text-align: right;\">\n",
              "      <th></th>\n",
              "      <th>iso_code</th>\n",
              "      <th>location</th>\n",
              "      <th>total_cases</th>\n",
              "      <th>total_deaths</th>\n",
              "      <th>population_density</th>\n",
              "      <th>median_age</th>\n",
              "      <th>aged_65_older</th>\n",
              "      <th>gdp_per_capita</th>\n",
              "      <th>hospital_beds_per_10k</th>\n",
              "      <th>Unemployment</th>\n",
              "      <th>Concentrations of fine particulate matter (PM2.5)</th>\n",
              "      <th>Cluster</th>\n",
              "    </tr>\n",
              "  </thead>\n",
              "  <tbody>\n",
              "    <tr>\n",
              "      <th>0</th>\n",
              "      <td>AFG</td>\n",
              "      <td>Afghanistan</td>\n",
              "      <td>5339</td>\n",
              "      <td>136</td>\n",
              "      <td>54.422</td>\n",
              "      <td>18.6</td>\n",
              "      <td>2.581</td>\n",
              "      <td>1803.987</td>\n",
              "      <td>5</td>\n",
              "      <td>1.520</td>\n",
              "      <td>59.9</td>\n",
              "      <td>4</td>\n",
              "    </tr>\n",
              "    <tr>\n",
              "      <th>1</th>\n",
              "      <td>ALB</td>\n",
              "      <td>Albania</td>\n",
              "      <td>898</td>\n",
              "      <td>31</td>\n",
              "      <td>104.871</td>\n",
              "      <td>38.0</td>\n",
              "      <td>13.188</td>\n",
              "      <td>11803.431</td>\n",
              "      <td>29</td>\n",
              "      <td>12.000</td>\n",
              "      <td>18.2</td>\n",
              "      <td>0</td>\n",
              "    </tr>\n",
              "    <tr>\n",
              "      <th>2</th>\n",
              "      <td>ARE</td>\n",
              "      <td>United Arab Emirates</td>\n",
              "      <td>21084</td>\n",
              "      <td>208</td>\n",
              "      <td>112.442</td>\n",
              "      <td>34.0</td>\n",
              "      <td>1.144</td>\n",
              "      <td>67293.483</td>\n",
              "      <td>12</td>\n",
              "      <td>2.640</td>\n",
              "      <td>37.2</td>\n",
              "      <td>3</td>\n",
              "    </tr>\n",
              "    <tr>\n",
              "      <th>3</th>\n",
              "      <td>ARG</td>\n",
              "      <td>Argentina</td>\n",
              "      <td>7121</td>\n",
              "      <td>353</td>\n",
              "      <td>16.177</td>\n",
              "      <td>31.9</td>\n",
              "      <td>11.198</td>\n",
              "      <td>18933.907</td>\n",
              "      <td>50</td>\n",
              "      <td>9.825</td>\n",
              "      <td>11.7</td>\n",
              "      <td>0</td>\n",
              "    </tr>\n",
              "    <tr>\n",
              "      <th>4</th>\n",
              "      <td>ARM</td>\n",
              "      <td>Armenia</td>\n",
              "      <td>3860</td>\n",
              "      <td>49</td>\n",
              "      <td>102.931</td>\n",
              "      <td>35.7</td>\n",
              "      <td>11.232</td>\n",
              "      <td>8787.580</td>\n",
              "      <td>42</td>\n",
              "      <td>17.707</td>\n",
              "      <td>32.9</td>\n",
              "      <td>4</td>\n",
              "    </tr>\n",
              "    <tr>\n",
              "      <th>...</th>\n",
              "      <td>...</td>\n",
              "      <td>...</td>\n",
              "      <td>...</td>\n",
              "      <td>...</td>\n",
              "      <td>...</td>\n",
              "      <td>...</td>\n",
              "      <td>...</td>\n",
              "      <td>...</td>\n",
              "      <td>...</td>\n",
              "      <td>...</td>\n",
              "      <td>...</td>\n",
              "      <td>...</td>\n",
              "    </tr>\n",
              "    <tr>\n",
              "      <th>99</th>\n",
              "      <td>VEN</td>\n",
              "      <td>Venezuela (Bolivarian Republic of)</td>\n",
              "      <td>455</td>\n",
              "      <td>10</td>\n",
              "      <td>36.253</td>\n",
              "      <td>29.0</td>\n",
              "      <td>6.614</td>\n",
              "      <td>16745.022</td>\n",
              "      <td>8</td>\n",
              "      <td>9.080</td>\n",
              "      <td>16.8</td>\n",
              "      <td>0</td>\n",
              "    </tr>\n",
              "    <tr>\n",
              "      <th>100</th>\n",
              "      <td>VNM</td>\n",
              "      <td>Viet Nam</td>\n",
              "      <td>312</td>\n",
              "      <td>0</td>\n",
              "      <td>308.127</td>\n",
              "      <td>32.6</td>\n",
              "      <td>7.150</td>\n",
              "      <td>6171.884</td>\n",
              "      <td>26</td>\n",
              "      <td>2.210</td>\n",
              "      <td>30.1</td>\n",
              "      <td>4</td>\n",
              "    </tr>\n",
              "    <tr>\n",
              "      <th>101</th>\n",
              "      <td>YEM</td>\n",
              "      <td>Yemen</td>\n",
              "      <td>87</td>\n",
              "      <td>13</td>\n",
              "      <td>53.508</td>\n",
              "      <td>20.3</td>\n",
              "      <td>2.922</td>\n",
              "      <td>1479.147</td>\n",
              "      <td>7</td>\n",
              "      <td>12.810</td>\n",
              "      <td>44.3</td>\n",
              "      <td>4</td>\n",
              "    </tr>\n",
              "    <tr>\n",
              "      <th>102</th>\n",
              "      <td>ZAF</td>\n",
              "      <td>South Africa</td>\n",
              "      <td>12739</td>\n",
              "      <td>238</td>\n",
              "      <td>46.754</td>\n",
              "      <td>27.3</td>\n",
              "      <td>5.344</td>\n",
              "      <td>12294.876</td>\n",
              "      <td>28</td>\n",
              "      <td>28.700</td>\n",
              "      <td>24.3</td>\n",
              "      <td>0</td>\n",
              "    </tr>\n",
              "    <tr>\n",
              "      <th>103</th>\n",
              "      <td>ZWE</td>\n",
              "      <td>Zimbabwe</td>\n",
              "      <td>37</td>\n",
              "      <td>4</td>\n",
              "      <td>42.729</td>\n",
              "      <td>19.6</td>\n",
              "      <td>2.822</td>\n",
              "      <td>1899.775</td>\n",
              "      <td>17</td>\n",
              "      <td>4.900</td>\n",
              "      <td>19.1</td>\n",
              "      <td>4</td>\n",
              "    </tr>\n",
              "  </tbody>\n",
              "</table>\n",
              "<p>103 rows × 12 columns</p>\n",
              "</div>"
            ],
            "text/plain": [
              "    iso_code  ... Cluster\n",
              "0        AFG  ...       4\n",
              "1        ALB  ...       0\n",
              "2        ARE  ...       3\n",
              "3        ARG  ...       0\n",
              "4        ARM  ...       4\n",
              "..       ...  ...     ...\n",
              "99       VEN  ...       0\n",
              "100      VNM  ...       4\n",
              "101      YEM  ...       4\n",
              "102      ZAF  ...       0\n",
              "103      ZWE  ...       4\n",
              "\n",
              "[103 rows x 12 columns]"
            ]
          },
          "metadata": {
            "tags": []
          },
          "execution_count": 95
        }
      ]
    },
    {
      "cell_type": "code",
      "metadata": {
        "id": "D9VcBC4aJ5sq",
        "colab_type": "code",
        "colab": {
          "base_uri": "https://localhost:8080/",
          "height": 406
        },
        "outputId": "173d363a-5490-4dc8-e55c-83cddbf85a02"
      },
      "source": [
        "df[['location', 'Cluster']]"
      ],
      "execution_count": 97,
      "outputs": [
        {
          "output_type": "execute_result",
          "data": {
            "text/html": [
              "<div>\n",
              "<style scoped>\n",
              "    .dataframe tbody tr th:only-of-type {\n",
              "        vertical-align: middle;\n",
              "    }\n",
              "\n",
              "    .dataframe tbody tr th {\n",
              "        vertical-align: top;\n",
              "    }\n",
              "\n",
              "    .dataframe thead th {\n",
              "        text-align: right;\n",
              "    }\n",
              "</style>\n",
              "<table border=\"1\" class=\"dataframe\">\n",
              "  <thead>\n",
              "    <tr style=\"text-align: right;\">\n",
              "      <th></th>\n",
              "      <th>location</th>\n",
              "      <th>Cluster</th>\n",
              "    </tr>\n",
              "  </thead>\n",
              "  <tbody>\n",
              "    <tr>\n",
              "      <th>0</th>\n",
              "      <td>Afghanistan</td>\n",
              "      <td>4</td>\n",
              "    </tr>\n",
              "    <tr>\n",
              "      <th>1</th>\n",
              "      <td>Albania</td>\n",
              "      <td>0</td>\n",
              "    </tr>\n",
              "    <tr>\n",
              "      <th>2</th>\n",
              "      <td>United Arab Emirates</td>\n",
              "      <td>3</td>\n",
              "    </tr>\n",
              "    <tr>\n",
              "      <th>3</th>\n",
              "      <td>Argentina</td>\n",
              "      <td>0</td>\n",
              "    </tr>\n",
              "    <tr>\n",
              "      <th>4</th>\n",
              "      <td>Armenia</td>\n",
              "      <td>4</td>\n",
              "    </tr>\n",
              "    <tr>\n",
              "      <th>...</th>\n",
              "      <td>...</td>\n",
              "      <td>...</td>\n",
              "    </tr>\n",
              "    <tr>\n",
              "      <th>99</th>\n",
              "      <td>Venezuela (Bolivarian Republic of)</td>\n",
              "      <td>0</td>\n",
              "    </tr>\n",
              "    <tr>\n",
              "      <th>100</th>\n",
              "      <td>Viet Nam</td>\n",
              "      <td>4</td>\n",
              "    </tr>\n",
              "    <tr>\n",
              "      <th>101</th>\n",
              "      <td>Yemen</td>\n",
              "      <td>4</td>\n",
              "    </tr>\n",
              "    <tr>\n",
              "      <th>102</th>\n",
              "      <td>South Africa</td>\n",
              "      <td>0</td>\n",
              "    </tr>\n",
              "    <tr>\n",
              "      <th>103</th>\n",
              "      <td>Zimbabwe</td>\n",
              "      <td>4</td>\n",
              "    </tr>\n",
              "  </tbody>\n",
              "</table>\n",
              "<p>103 rows × 2 columns</p>\n",
              "</div>"
            ],
            "text/plain": [
              "                               location  Cluster\n",
              "0                           Afghanistan        4\n",
              "1                               Albania        0\n",
              "2                  United Arab Emirates        3\n",
              "3                             Argentina        0\n",
              "4                               Armenia        4\n",
              "..                                  ...      ...\n",
              "99   Venezuela (Bolivarian Republic of)        0\n",
              "100                            Viet Nam        4\n",
              "101                               Yemen        4\n",
              "102                        South Africa        0\n",
              "103                            Zimbabwe        4\n",
              "\n",
              "[103 rows x 2 columns]"
            ]
          },
          "metadata": {
            "tags": []
          },
          "execution_count": 97
        }
      ]
    },
    {
      "cell_type": "code",
      "metadata": {
        "id": "h0BmUQSqJ9HY",
        "colab_type": "code",
        "colab": {}
      },
      "source": [
        "df.to_excel(\"output.xlsx\")"
      ],
      "execution_count": 0,
      "outputs": []
    },
    {
      "cell_type": "code",
      "metadata": {
        "id": "3mFkbXJ8PZPg",
        "colab_type": "code",
        "colab": {}
      },
      "source": [
        ""
      ],
      "execution_count": 0,
      "outputs": []
    }
  ]
}